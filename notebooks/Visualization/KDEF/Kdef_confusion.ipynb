{
  "nbformat": 4,
  "nbformat_minor": 0,
  "metadata": {
    "colab": {
      "name": "Kdef_confusion",
      "provenance": []
    },
    "kernelspec": {
      "name": "python3",
      "display_name": "Python 3"
    },
    "accelerator": "GPU"
  },
  "cells": [
    {
      "cell_type": "code",
      "metadata": {
        "id": "pmEAvGYq-KQv",
        "colab_type": "code",
        "colab": {}
      },
      "source": [
        "from google.colab.patches import cv2_imshow\n",
        "import os\n",
        "import pathlib\n",
        "import cv2\n",
        "%tensorflow_version 2.x\n",
        "import tensorflow as tf\n",
        "import numpy as np\n",
        "import pandas as pd"
      ],
      "execution_count": null,
      "outputs": []
    },
    {
      "cell_type": "code",
      "metadata": {
        "id": "AgKFPx29ceGu",
        "colab_type": "code",
        "colab": {}
      },
      "source": [
        "from sklearn.metrics import classification_report,confusion_matrix\n",
        "from mlxtend.plotting import plot_confusion_matrix\n",
        "import matplotlib.pyplot as plt"
      ],
      "execution_count": null,
      "outputs": []
    },
    {
      "cell_type": "code",
      "metadata": {
        "id": "oqt_-iEfEz-y",
        "colab_type": "code",
        "colab": {}
      },
      "source": [
        "new_dir_test = '/content/drive/My Drive/Datasets/kdef_akdef/KDEF_front(bw)(with train-test-val split)/test'"
      ],
      "execution_count": null,
      "outputs": []
    },
    {
      "cell_type": "code",
      "metadata": {
        "id": "4BbANKceGD65",
        "colab_type": "code",
        "colab": {}
      },
      "source": [
        "from tensorflow.keras.preprocessing.image import ImageDataGenerator\n",
        "\n",
        "# All images will be rescaled by 1./255\n",
        "train_datagen = ImageDataGenerator(\n",
        "      rescale=1./255,\n",
        "      #rotation_range=40,\n",
        "      #width_shift_range=0.2,\n",
        "      #height_shift_range=0.2,\n",
        "      #shear_range=0.2,\n",
        "      #zoom_range=0.2,\n",
        "      horizontal_flip=True,\n",
        "      #fill_mode='nearest'\n",
        "      )\n",
        "\n",
        "validation_datagen = ImageDataGenerator(rescale=1./255)\n",
        "test_datagen = ImageDataGenerator(rescale=1./255)"
      ],
      "execution_count": null,
      "outputs": []
    },
    {
      "cell_type": "code",
      "metadata": {
        "id": "LWCmLIruGpXv",
        "colab_type": "code",
        "colab": {
          "base_uri": "https://localhost:8080/",
          "height": 36
        },
        "outputId": "9e212e26-1bd4-478e-f909-8877d589525d"
      },
      "source": [
        "test_generator = test_datagen.flow_from_directory(\n",
        "        new_dir_test,  # This is the source directory for training images\n",
        "        target_size=(200,200),  \n",
        "        batch_size=10,\n",
        "        color_mode = 'grayscale',\n",
        "        shuffle=False,\n",
        "        class_mode='categorical')"
      ],
      "execution_count": null,
      "outputs": [
        {
          "output_type": "stream",
          "text": [
            "Found 149 images belonging to 7 classes.\n"
          ],
          "name": "stdout"
        }
      ]
    },
    {
      "cell_type": "code",
      "metadata": {
        "id": "1b5g81iBcytz",
        "colab_type": "code",
        "colab": {}
      },
      "source": [
        "model_dex = tf.keras.models.load_model('/content/drive/My Drive/BE_Project_Final_models/kdef_models/model_dex_kd_bw(imp).h5')\n",
        "model_simple1 = tf.keras.models.load_model('/content/drive/My Drive/BE_Project_Final_models/kdef_models/model_simple1_kd_bw.h5')\n",
        "model_simple_batch = tf.keras.models.load_model('/content/drive/My Drive/BE_Project_Final_models/kdef_models/model_simple_kd_bw_modified1(Batchnorm).h5')\n",
        "model_simple_layer = tf.keras.models.load_model('/content/drive/My Drive/BE_Project_Final_models/kdef_models/model_simple_kd_bw_modified2(Layernorm).h5')"
      ],
      "execution_count": null,
      "outputs": []
    },
    {
      "cell_type": "code",
      "metadata": {
        "id": "gNof42DXhCvR",
        "colab_type": "code",
        "colab": {
          "base_uri": "https://localhost:8080/",
          "height": 148
        },
        "outputId": "0cda7f0d-7cfe-46bc-a4ad-159ca74cde82"
      },
      "source": [
        "test_generator.classes"
      ],
      "execution_count": null,
      "outputs": [
        {
          "output_type": "execute_result",
          "data": {
            "text/plain": [
              "array([0, 0, 0, 0, 0, 0, 0, 0, 0, 0, 0, 0, 0, 0, 0, 0, 0, 0, 0, 0, 0, 0,\n",
              "       1, 1, 1, 1, 1, 1, 1, 1, 1, 1, 1, 1, 1, 1, 1, 1, 1, 1, 1, 1, 1, 2,\n",
              "       2, 2, 2, 2, 2, 2, 2, 2, 2, 2, 2, 2, 2, 2, 2, 2, 2, 2, 2, 2, 3, 3,\n",
              "       3, 3, 3, 3, 3, 3, 3, 3, 3, 3, 3, 3, 3, 3, 3, 3, 3, 3, 3, 4, 4, 4,\n",
              "       4, 4, 4, 4, 4, 4, 4, 4, 4, 4, 4, 4, 4, 4, 4, 4, 4, 4, 4, 5, 5, 5,\n",
              "       5, 5, 5, 5, 5, 5, 5, 5, 5, 5, 5, 5, 5, 5, 5, 5, 5, 5, 6, 6, 6, 6,\n",
              "       6, 6, 6, 6, 6, 6, 6, 6, 6, 6, 6, 6, 6, 6, 6, 6, 6], dtype=int32)"
            ]
          },
          "metadata": {
            "tags": []
          },
          "execution_count": 13
        }
      ]
    },
    {
      "cell_type": "code",
      "metadata": {
        "id": "rBLsqY-DcpUq",
        "colab_type": "code",
        "colab": {
          "base_uri": "https://localhost:8080/",
          "height": 54
        },
        "outputId": "e435693b-d1c7-40b4-cca5-efa68093e2fe"
      },
      "source": [
        "#Confution Matrix and Classification Report\n",
        "Y_pred = model_simple_layer.predict_generator(test_generator, 149 // 10+1)\n",
        "y_pred = np.argmax(Y_pred, axis=1)\n",
        "print('Confusion Matrix')\n",
        "cnf=confusion_matrix(test_generator.classes, y_pred)\n",
        "print('Classification Report')\n",
        "target_names = ['Anger', 'Disgust', 'Fear','Happy','Neutral','Sad','Surprise']\n",
        "clf =classification_report(test_generator.classes, y_pred, target_names=target_names)"
      ],
      "execution_count": null,
      "outputs": [
        {
          "output_type": "stream",
          "text": [
            "Confusion Matrix\n",
            "Classification Report\n"
          ],
          "name": "stdout"
        }
      ]
    },
    {
      "cell_type": "code",
      "metadata": {
        "id": "mUBDDQ88d360",
        "colab_type": "code",
        "colab": {}
      },
      "source": [
        "plt.rcParams.update({'text.color': 'black','font.size':15})"
      ],
      "execution_count": null,
      "outputs": []
    },
    {
      "cell_type": "code",
      "metadata": {
        "id": "Wj0naJd_ea_3",
        "colab_type": "code",
        "colab": {
          "base_uri": "https://localhost:8080/",
          "height": 851
        },
        "outputId": "95791320-dfa8-492c-a201-c697478e90ed"
      },
      "source": [
        "fig, ax = plot_confusion_matrix(conf_mat=cnf,\n",
        "                                colorbar=True,\n",
        "                                show_absolute=True,\n",
        "                                show_normed=False,figsize=(10,10),cmap='GnBu')\n",
        "ax.set_xticklabels([''] + list(np.unique(target_names)))\n",
        "ax.set_yticklabels([''] + list(np.unique(target_names)))\n",
        "\n",
        "plt.show()\n",
        "print(clf)"
      ],
      "execution_count": null,
      "outputs": [
        {
          "output_type": "display_data",
          "data": {
            "image/png": "[encoded data removed]",
            "text/plain": [
              "<Figure size 720x720 with 2 Axes>"
            ]
          },
          "metadata": {
            "tags": [],
            "needs_background": "light"
          }
        },
        {
          "output_type": "stream",
          "text": [
            "              precision    recall  f1-score   support\n",
            "\n",
            "       Anger       0.64      0.82      0.72        22\n",
            "     Disgust       0.89      0.76      0.82        21\n",
            "        Fear       0.71      0.71      0.71        21\n",
            "       Happy       1.00      0.95      0.98        21\n",
            "     Neutral       0.69      0.82      0.75        22\n",
            "         Sad       0.62      0.48      0.54        21\n",
            "    Surprise       0.90      0.86      0.88        21\n",
            "\n",
            "    accuracy                           0.77       149\n",
            "   macro avg       0.78      0.77      0.77       149\n",
            "weighted avg       0.78      0.77      0.77       149\n",
            "\n"
          ],
          "name": "stdout"
        }
      ]
    },
    {
      "cell_type": "code",
      "metadata": {
        "id": "EbgrIj4aiBx7",
        "colab_type": "code",
        "colab": {
          "base_uri": "https://localhost:8080/",
          "height": 36
        },
        "outputId": "d2df540e-058f-441d-b633-5c38b16628de"
      },
      "source": [
        "score = model_simple_layer.evaluate(test_generator, verbose=1, steps=15)"
      ],
      "execution_count": null,
      "outputs": [
        {
          "output_type": "stream",
          "text": [
            "15/15 [==============================] - 0s 22ms/step - loss: 0.5452 - accuracy: 0.7718\n"
          ],
          "name": "stdout"
        }
      ]
    },
    {
      "cell_type": "code",
      "metadata": {
        "id": "c4BLtTNLiEdZ",
        "colab_type": "code",
        "colab": {}
      },
      "source": [
        ""
      ],
      "execution_count": null,
      "outputs": []
    }
  ]
}