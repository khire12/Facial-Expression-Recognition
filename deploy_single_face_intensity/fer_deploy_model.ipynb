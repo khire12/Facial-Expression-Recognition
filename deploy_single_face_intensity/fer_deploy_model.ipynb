{
 "cells": [
  {
   "cell_type": "code",
   "execution_count": 30,
   "metadata": {},
   "outputs": [],
   "source": [
    "import cv2\n",
    "import numpy as np\n",
    "import pandas as pd\n",
    "import matplotlib.pyplot as plt\n",
    "import scipy\n",
    "import tensorflow as tf"
   ]
  },
  {
   "cell_type": "code",
   "execution_count": 31,
   "metadata": {},
   "outputs": [],
   "source": [
    "from flask import request\n",
    "from flask import jsonify\n",
    "from flask import Flask\n",
    "from flask_cors import CORS, cross_origin\n",
    "import base64\n",
    "import io"
   ]
  },
  {
   "cell_type": "code",
   "execution_count": 32,
   "metadata": {},
   "outputs": [],
   "source": [
    "app = Flask(__name__)\n",
    "cors = CORS(app)\n",
    "app.config['CORS_HEADERS'] = 'Content-Type'"
   ]
  },
  {
   "cell_type": "code",
   "execution_count": 33,
   "metadata": {},
   "outputs": [],
   "source": [
    "Expressions={0:\"Angry\",1:\"Disgust\",2:\"Fear\",3:\"Happy\",4:\"Sad\",5:\"Surprise\",6:\"Neutral\"}"
   ]
  },
  {
   "cell_type": "code",
   "execution_count": 34,
   "metadata": {},
   "outputs": [],
   "source": [
    "from tensorflow.keras.backend import sigmoid"
   ]
  },
  {
   "cell_type": "code",
   "execution_count": 35,
   "metadata": {},
   "outputs": [],
   "source": [
    "def swish(x, beta = 1):\n",
    "  return (x * sigmoid(beta * x))"
   ]
  },
  {
   "cell_type": "code",
   "execution_count": 36,
   "metadata": {},
   "outputs": [],
   "source": [
    "from tensorflow.keras.utils import get_custom_objects\n",
    "from tensorflow.keras.layers import Activation"
   ]
  },
  {
   "cell_type": "code",
   "execution_count": 37,
   "metadata": {},
   "outputs": [],
   "source": [
    "get_custom_objects().update({'swish': Activation(swish)})"
   ]
  },
  {
   "cell_type": "code",
   "execution_count": 38,
   "metadata": {},
   "outputs": [],
   "source": [
    "def get_model():\n",
    "    global model\n",
    "    model=tf.keras.models.load_model(\"C:\\\\Users\\\\pushkar\\\\Desktop\\\\beproject_updated\\\\models\\\\model_fer_swish.h5\")\n",
    "    return model"
   ]
  },
  {
   "cell_type": "code",
   "execution_count": 39,
   "metadata": {},
   "outputs": [],
   "source": [
    "def detect_face(image):\n",
    "    cascPath = 'C:\\\\Users\\\\pushkar\\\\Desktop\\\\beproject_updated\\\\extra_files\\\\haarcascade_frontalface_default.xml'\n",
    "    faceCascade = cv2.CascadeClassifier(cascPath)\n",
    "  #BGR to gray conversion\n",
    "    gray = cv2.cvtColor(image, cv2.COLOR_BGR2GRAY)\n",
    "  #Cascade multiscale classifier\n",
    "    detected_faces = faceCascade.detectMultiScale(image,minNeighbors=3,\n",
    "                                                minSize=(10,10))\n",
    "    sub = gray\n",
    "\n",
    "    for x, y, w, h in detected_faces:\n",
    "        sub = gray[y:y+h,x:x+w]\n",
    "    return sub,detected_faces"
   ]
  },
  {
   "cell_type": "code",
   "execution_count": 40,
   "metadata": {},
   "outputs": [
    {
     "name": "stdout",
     "output_type": "stream",
     "text": [
      "Loading model\n"
     ]
    },
    {
     "data": {
      "text/plain": [
       "<tensorflow.python.keras.engine.sequential.Sequential at 0x1d452ed7198>"
      ]
     },
     "execution_count": 40,
     "metadata": {},
     "output_type": "execute_result"
    }
   ],
   "source": [
    "print('Loading model')\n",
    "get_model()"
   ]
  },
  {
   "cell_type": "code",
   "execution_count": 41,
   "metadata": {},
   "outputs": [],
   "source": [
    "@app.route('/static')\n",
    "@app.route('/predict',methods=['POST'])\n",
    "@cross_origin()\n",
    "def make_prediction():\n",
    "    message=request.get_json(force=True)\n",
    "    encoded=message['image']\n",
    "    encoded_data = encoded.split(',')[1]\n",
    "    #print(encoded_data)\n",
    "    nparr = np.fromstring(base64.b64decode(encoded_data), np.uint8)\n",
    "    image = cv2.imdecode(nparr, cv2.IMREAD_COLOR)\n",
    "    x=image.shape[0]\n",
    "    y=image.shape[1]\n",
    "    y1=int(y/(x/300))\n",
    "    print(y1)\n",
    "    img2 = cv2.resize(image,(y1,300),interpolation = cv2.INTER_AREA)\n",
    "    sub_face,detected_faces = detect_face(img2)\n",
    "    cv2.imwrite('sub_face.jpg',sub_face)\n",
    "    img=cv2.resize(sub_face,(48,48), interpolation = cv2.INTER_AREA)\n",
    "    img = img/255.0\n",
    "    img=np.reshape(img,(1,48,48,1))\n",
    "    predict_array=model.predict(img)\n",
    "    predict=np.argmax(predict_array)\n",
    "    intensity_label=\"\"\n",
    "    predict_array_oned=np.squeeze(predict_array)\n",
    "    intensity_value=predict_array_oned[predict]\n",
    "    if(intensity_value>=0.65):\n",
    "            intensity_label=\"Intensity: Extreme\"\n",
    "    elif(intensity_value>=0.4 and intensity_value<0.65):\n",
    "            intensity_label=\"Intensity: Moderate\"\n",
    "    elif(intensity_value<0.4):\n",
    "            intensity_label=\"Intensity: Low\"\n",
    "    predicted_expression=Expressions[predict]+\", \"+intensity_label\n",
    "    response ={\n",
    "        'prediction':{\n",
    "            'emotion':predicted_expression\n",
    "        }\n",
    "    }\n",
    "    return jsonify(response)"
   ]
  },
  {
   "cell_type": "code",
   "execution_count": 34,
   "metadata": {},
   "outputs": [],
   "source": [
    "# global MEDIA_FOLDER\n",
    "# MEDIA_FOLDER = os.path.join(os.path.dirname(os.path.dirname(os.path.dirname(os.path.abspath(\"C:\\\\Users\\\\pushkar\\\\Desktop\\\\flask_apps\")))), 'sub_face')"
   ]
  },
  {
   "cell_type": "code",
   "execution_count": 35,
   "metadata": {},
   "outputs": [],
   "source": [
    "# @app.route('/')\n",
    "# @cross_origin\n",
    "# def download_file(filename):\n",
    "#     return send_from_directory(MEDIA_FOLDER,filename, as_attachment=True)"
   ]
  },
  {
   "cell_type": "code",
   "execution_count": null,
   "metadata": {},
   "outputs": [],
   "source": []
  }
 ],
 "metadata": {
  "kernelspec": {
   "display_name": "Python 3",
   "language": "python",
   "name": "python3"
  },
  "language_info": {
   "codemirror_mode": {
    "name": "ipython",
    "version": 3
   },
   "file_extension": ".py",
   "mimetype": "text/x-python",
   "name": "python",
   "nbconvert_exporter": "python",
   "pygments_lexer": "ipython3",
   "version": "3.7.1"
  }
 },
 "nbformat": 4,
 "nbformat_minor": 4
}
