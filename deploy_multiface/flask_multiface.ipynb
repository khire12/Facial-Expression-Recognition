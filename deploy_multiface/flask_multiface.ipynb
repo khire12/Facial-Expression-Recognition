{
 "cells": [
  {
   "cell_type": "code",
   "execution_count": 1,
   "metadata": {},
   "outputs": [],
   "source": [
    "import cv2\n",
    "import numpy as np\n",
    "import pandas as pd\n",
    "import matplotlib.pyplot as plt\n",
    "import scipy\n",
    "import tensorflow as tf"
   ]
  },
  {
   "cell_type": "code",
   "execution_count": 2,
   "metadata": {},
   "outputs": [],
   "source": [
    "from flask import request\n",
    "from flask import jsonify\n",
    "from flask import Flask\n",
    "from flask_cors import CORS, cross_origin\n",
    "import base64\n",
    "import io"
   ]
  },
  {
   "cell_type": "code",
   "execution_count": 3,
   "metadata": {},
   "outputs": [],
   "source": [
    "from PIL import Image"
   ]
  },
  {
   "cell_type": "code",
   "execution_count": 4,
   "metadata": {},
   "outputs": [],
   "source": [
    "app = Flask(__name__)\n",
    "cors = CORS(app)\n",
    "app.config['CORS_HEADERS'] = 'Content-Type'"
   ]
  },
  {
   "cell_type": "code",
   "execution_count": 5,
   "metadata": {},
   "outputs": [],
   "source": [
    "Expressions={0:\"Angry\",1:\"Disgust\",2:\"Fear\",3:\"Happy\",4:\"Sad\",5:\"Surprise\",6:\"Neutral\"}"
   ]
  },
  {
   "cell_type": "code",
   "execution_count": 6,
   "metadata": {},
   "outputs": [],
   "source": [
    "from tensorflow.keras.backend import sigmoid"
   ]
  },
  {
   "cell_type": "code",
   "execution_count": 10,
   "metadata": {},
   "outputs": [],
   "source": [
    "def swish(x, beta = 1):\n",
    "  return (x * sigmoid(beta * x))"
   ]
  },
  {
   "cell_type": "code",
   "execution_count": 11,
   "metadata": {},
   "outputs": [],
   "source": [
    "from tensorflow.keras.utils import get_custom_objects\n",
    "from tensorflow.keras.layers import Activation"
   ]
  },
  {
   "cell_type": "code",
   "execution_count": 12,
   "metadata": {},
   "outputs": [],
   "source": [
    "get_custom_objects().update({'swish': Activation(swish)})"
   ]
  },
  {
   "cell_type": "code",
   "execution_count": 26,
   "metadata": {},
   "outputs": [],
   "source": [
    "def get_model():\n",
    "    global model\n",
    "    model=tf.keras.models.load_model(\"C:\\\\Users\\\\pushkar\\\\Desktop\\\\beproject_updated\\\\models\\\\model_fer_swish.h5\")\n",
    "    return model"
   ]
  },
  {
   "cell_type": "code",
   "execution_count": 28,
   "metadata": {},
   "outputs": [],
   "source": [
    "def detect_face(image):\n",
    "    cascPath = 'C:\\\\Users\\\\pushkar\\\\Desktop\\\\beproject_updated\\\\extra_files\\\\haarcascade_frontalface_default.xml'\n",
    "    faceCascade = cv2.CascadeClassifier(cascPath)\n",
    "  #BGR to gray conversion\n",
    "    gray = cv2.cvtColor(image, cv2.COLOR_BGR2GRAY)\n",
    "  #Cascade multiscale classifier\n",
    "    detected_faces = faceCascade.detectMultiScale(image,minNeighbors=4,\n",
    "                                                minSize=(10,10))\n",
    "    sub = []\n",
    "\n",
    "    for x, y, w, h in detected_faces:\n",
    "        sub.append(gray[y:y+h,x:x+w])\n",
    "    return sub,detected_faces,len(detected_faces)"
   ]
  },
  {
   "cell_type": "code",
   "execution_count": 27,
   "metadata": {},
   "outputs": [
    {
     "name": "stdout",
     "output_type": "stream",
     "text": [
      "Loading model\n"
     ]
    },
    {
     "data": {
      "text/plain": [
       "<tensorflow.python.keras.engine.sequential.Sequential at 0x18de2a84d30>"
      ]
     },
     "execution_count": 27,
     "metadata": {},
     "output_type": "execute_result"
    }
   ],
   "source": [
    "print('Loading model')\n",
    "get_model()"
   ]
  },
  {
   "cell_type": "code",
   "execution_count": 16,
   "metadata": {},
   "outputs": [],
   "source": [
    "@app.route('/predict1',methods=['POST'])\n",
    "@cross_origin()\n",
    "def make_prediction():\n",
    "    message=request.get_json(force=True)\n",
    "    encoded=message['image']\n",
    "    encoded_data = encoded.split(',')[1]\n",
    "    #print(encoded_data)\n",
    "    nparr = np.fromstring(base64.b64decode(encoded_data), np.uint8)\n",
    "    image = cv2.imdecode(nparr, cv2.IMREAD_COLOR)\n",
    "    x=image.shape[0]\n",
    "    y=image.shape[1]\n",
    "    y1=int(y/(x/300))\n",
    "    print(y1)\n",
    "    img2 = cv2.resize(image,(y1,300),interpolation = cv2.INTER_AREA)\n",
    "    sub_face,detected_faces,numFaces = detect_face(img2) \n",
    "    predicted_expression = \"[\"\n",
    "    predict=[]\n",
    "    for i in range(numFaces):\n",
    "        img=cv2.resize(sub_face[i],(48,48), interpolation = cv2.INTER_AREA)\n",
    "        img = img/255.0\n",
    "        img=np.reshape(img,(1,48,48,1))\n",
    "        predict_array=model.predict(img)\n",
    "        predict.append(np.argmax(predict_array))\n",
    "        predicted_expression=predicted_expression + \" \"+ Expressions[np.argmax(predict_array)]\n",
    "        \n",
    "    for face,sub,pred in zip(detected_faces,sub_face,predict):\n",
    "        for _ in face:\n",
    "            cv2.rectangle(img2,(face[0],face[1]),(face[0]+face[2],face[1]+face[3]),(255,0,0),2)\n",
    "            font = cv2.FONT_HERSHEY_SIMPLEX\n",
    "        cv2.putText(img2,str(Expressions[pred]),(face[0],face[1]-5),font,0.6,(255,0,0),2,cv2.LINE_AA)\n",
    "    \n",
    "    \n",
    "    predicted_expression = predicted_expression + \" ]\"\n",
    "    \n",
    "    \n",
    "    img_byte_arr = io.BytesIO()\n",
    "    img = Image.fromarray(img2,mode='RGB')\n",
    "    img.save(img_byte_arr, format='PNG')\n",
    "    encode_img =  base64.encodebytes(img_byte_arr.getvalue()).decode('ascii')\n",
    "    \n",
    "    \n",
    "    \n",
    "    response ={\n",
    "        'prediction':{\n",
    "            'emotion':predicted_expression\n",
    "        },\n",
    "        'image_faces_detected':{\n",
    "            'image':encode_img\n",
    "        }\n",
    "    }\n",
    "    return jsonify(response)"
   ]
  },
  {
   "cell_type": "code",
   "execution_count": null,
   "metadata": {},
   "outputs": [],
   "source": []
  }
 ],
 "metadata": {
  "kernelspec": {
   "display_name": "Python 3",
   "language": "python",
   "name": "python3"
  },
  "language_info": {
   "codemirror_mode": {
    "name": "ipython",
    "version": 3
   },
   "file_extension": ".py",
   "mimetype": "text/x-python",
   "name": "python",
   "nbconvert_exporter": "python",
   "pygments_lexer": "ipython3",
   "version": "3.7.1"
  }
 },
 "nbformat": 4,
 "nbformat_minor": 4
}
